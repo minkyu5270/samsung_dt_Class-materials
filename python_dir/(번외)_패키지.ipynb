{
 "cells": [
  {
   "cell_type": "markdown",
   "id": "25a02092-f931-4c85-9624-962c18b86ba6",
   "metadata": {},
   "source": [
    "> 참고자료: 점프 투 파이썬 by 김응용"
   ]
  },
  {
   "cell_type": "markdown",
   "id": "1e7bf51f-5173-44a0-a1f3-6af5c6380506",
   "metadata": {},
   "source": [
    "# 패키지"
   ]
  },
  {
   "cell_type": "markdown",
   "id": "5287d6f5-2616-4f6a-96b8-d4cbc5245c37",
   "metadata": {},
   "source": [
    "## 패키지 구조(디렉토리) 만들기"
   ]
  },
  {
   "cell_type": "code",
   "execution_count": 10,
   "id": "77c91b0b-6760-4d3d-85da-6b3b900c8c6c",
   "metadata": {},
   "outputs": [],
   "source": [
    "%reload_ext autoreload\n",
    "%autoreload 2"
   ]
  },
  {
   "cell_type": "code",
   "execution_count": 11,
   "id": "2660bd83-ab54-4226-b3e8-aed72c93bb45",
   "metadata": {},
   "outputs": [
    {
     "data": {
      "text/plain": [
       "'d:\\\\python_dir'"
      ]
     },
     "execution_count": 11,
     "metadata": {},
     "output_type": "execute_result"
    }
   ],
   "source": [
    "import os\n",
    "\n",
    "os.getcwd()"
   ]
  },
  {
   "cell_type": "code",
   "execution_count": 12,
   "id": "87406412-5ff0-4f99-8da5-d6d8ab49d0b3",
   "metadata": {},
   "outputs": [
    {
     "ename": "FileExistsError",
     "evalue": "[WinError 183] 파일이 이미 있으므로 만들 수 없습니다: 'cafe'",
     "output_type": "error",
     "traceback": [
      "\u001b[1;31m---------------------------------------------------------------------------\u001b[0m",
      "\u001b[1;31mFileExistsError\u001b[0m                           Traceback (most recent call last)",
      "Cell \u001b[1;32mIn[12], line 1\u001b[0m\n\u001b[1;32m----> 1\u001b[0m \u001b[43mos\u001b[49m\u001b[38;5;241;43m.\u001b[39;49m\u001b[43mmkdir\u001b[49m\u001b[43m(\u001b[49m\u001b[38;5;124;43m'\u001b[39;49m\u001b[38;5;124;43mcafe\u001b[39;49m\u001b[38;5;124;43m'\u001b[39;49m\u001b[43m)\u001b[49m\n",
      "\u001b[1;31mFileExistsError\u001b[0m: [WinError 183] 파일이 이미 있으므로 만들 수 없습니다: 'cafe'"
     ]
    }
   ],
   "source": [
    "os.mkdir('cafe')"
   ]
  },
  {
   "cell_type": "code",
   "execution_count": null,
   "id": "157b2aed-57f0-404d-acc8-6ff1290e6c6e",
   "metadata": {},
   "outputs": [],
   "source": [
    "os.mkdir('cafe/coffee')"
   ]
  },
  {
   "cell_type": "code",
   "execution_count": null,
   "id": "3163fc91-98c7-47fd-a6c2-e05186238fab",
   "metadata": {},
   "outputs": [],
   "source": [
    "os.mkdir('cafe/non_coffee')"
   ]
  },
  {
   "cell_type": "markdown",
   "id": "6d715d97-ec12-4ac9-9c50-a35e91adbe31",
   "metadata": {},
   "source": [
    "## 패키지 - 모듈 - 함수 구현하기"
   ]
  },
  {
   "cell_type": "code",
   "execution_count": null,
   "id": "dc242aa3-3d65-4405-9a88-7bd33c89d969",
   "metadata": {},
   "outputs": [
    {
     "name": "stderr",
     "output_type": "stream",
     "text": [
      "'touch'��(��) ���� �Ǵ� �ܺ� ����, ������ �� �ִ� ���α׷�, �Ǵ�\n",
      "��ġ ������ �ƴմϴ�.\n",
      "'touch'��(��) ���� �Ǵ� �ܺ� ����, ������ �� �ִ� ���α׷�, �Ǵ�\n",
      "��ġ ������ �ƴմϴ�.\n",
      "'touch'��(��) ���� �Ǵ� �ܺ� ����, ������ �� �ִ� ���α׷�, �Ǵ�\n",
      "��ġ ������ �ƴմϴ�.\n"
     ]
    }
   ],
   "source": [
    "# 각 디렉토리 별로 __init__.py 파일을 만듦. \n",
    "\n",
    "# !touch ./cafe/__init__.py\n",
    "# !touch ./cafe/coffee/__init__.py\n",
    "# !touch ./cafe/non_coffee/__init__.py"
   ]
  },
  {
   "cell_type": "code",
   "execution_count": null,
   "id": "88987465",
   "metadata": {},
   "outputs": [
    {
     "name": "stdout",
     "output_type": "stream",
     "text": [
      "Writing ./cafe/__init__.py\n"
     ]
    }
   ],
   "source": [
    "%%writefile ./cafe/__init__.py\n",
    "pass"
   ]
  },
  {
   "cell_type": "code",
   "execution_count": null,
   "id": "7bc5c2a1",
   "metadata": {},
   "outputs": [
    {
     "name": "stdout",
     "output_type": "stream",
     "text": [
      "Writing ./cafe/coffee/__init__.py\n"
     ]
    }
   ],
   "source": [
    "%%writefile ./cafe/coffee/__init__.py\n",
    "pass"
   ]
  },
  {
   "cell_type": "code",
   "execution_count": null,
   "id": "5818cdee",
   "metadata": {},
   "outputs": [
    {
     "name": "stdout",
     "output_type": "stream",
     "text": [
      "Writing ./cafe/non_coffee/__init__.py\n"
     ]
    }
   ],
   "source": [
    "%%writefile ./cafe/non_coffee/__init__.py\n",
    "pass"
   ]
  },
  {
   "cell_type": "code",
   "execution_count": null,
   "id": "97e95dc3-0abc-4af8-96e1-908f07415e6a",
   "metadata": {},
   "outputs": [
    {
     "name": "stdout",
     "output_type": "stream",
     "text": [
      "Writing ./cafe/coffee/order.py\n"
     ]
    }
   ],
   "source": [
    "%%writefile ./cafe/coffee/order.py\n",
    "def order_test():\n",
    "    print('아메리카노 한잔 주문요')"
   ]
  },
  {
   "cell_type": "code",
   "execution_count": null,
   "id": "35fe6836-960a-4967-8cfd-f8c694c3abf1",
   "metadata": {},
   "outputs": [
    {
     "name": "stdout",
     "output_type": "stream",
     "text": [
      "Writing ./cafe/coffee/payment.py\n"
     ]
    }
   ],
   "source": [
    "%%writefile ./cafe/coffee/payment.py\n",
    "def pay_test():\n",
    "    print('ApplePay로 지불할게요~')"
   ]
  },
  {
   "cell_type": "code",
   "execution_count": null,
   "id": "476cc429-d6f7-44ac-b412-faa8ac707a62",
   "metadata": {},
   "outputs": [
    {
     "name": "stdout",
     "output_type": "stream",
     "text": [
      "Writing ./cafe/non_coffee/tea.py\n"
     ]
    }
   ],
   "source": [
    "%%writefile ./cafe/non_coffee/tea.py\n",
    "def taste_test():\n",
    "    print('티 한잔 시음해 보세요')"
   ]
  },
  {
   "cell_type": "markdown",
   "id": "b999470a-227a-4d7d-ac7e-75c300b7429c",
   "metadata": {},
   "source": [
    "## PYTHONPATH 경로 지정하기"
   ]
  },
  {
   "cell_type": "markdown",
   "id": "48b82779-9729-4689-9bf7-0a50603f6dcc",
   "metadata": {},
   "source": [
    "## 함수 불러오기"
   ]
  },
  {
   "cell_type": "code",
   "execution_count": null,
   "id": "7e8bff82-dde6-4b95-a466-2ecaa6926888",
   "metadata": {},
   "outputs": [
    {
     "name": "stdout",
     "output_type": "stream",
     "text": [
      "아메리카노 한잔 주문요\n"
     ]
    }
   ],
   "source": [
    "# 직접 합수 불러오기\n",
    "from cafe.coffee.order import order_test\n",
    "\n",
    "order_test()"
   ]
  },
  {
   "cell_type": "code",
   "execution_count": null,
   "id": "7d3d5768-41f1-4bae-aeaf-4e81079d2b82",
   "metadata": {},
   "outputs": [
    {
     "ename": "ModuleNotFoundError",
     "evalue": "No module named 'cafe.coffee.order.order_test'; 'cafe.coffee.order' is not a package",
     "output_type": "error",
     "traceback": [
      "\u001b[0;31m---------------------------------------------------------------------------\u001b[0m",
      "\u001b[0;31mModuleNotFoundError\u001b[0m                       Traceback (most recent call last)",
      "Cell \u001b[0;32mIn [11], line 2\u001b[0m\n\u001b[1;32m      1\u001b[0m \u001b[38;5;66;03m# 그러나 이렇게 함수를 직접 불러오는 건 불가능함.\u001b[39;00m\n\u001b[0;32m----> 2\u001b[0m \u001b[38;5;28;01mimport\u001b[39;00m \u001b[38;5;21;01mcafe\u001b[39;00m\u001b[38;5;21;01m.\u001b[39;00m\u001b[38;5;21;01mcoffee\u001b[39;00m\u001b[38;5;21;01m.\u001b[39;00m\u001b[38;5;21;01morder\u001b[39;00m\u001b[38;5;21;01m.\u001b[39;00m\u001b[38;5;21;01morder_test\u001b[39;00m\n",
      "\u001b[0;31mModuleNotFoundError\u001b[0m: No module named 'cafe.coffee.order.order_test'; 'cafe.coffee.order' is not a package"
     ]
    }
   ],
   "source": [
    "# 그러나 이렇게 함수를 직접 불러오는 건 불가능함.\n",
    "import cafe.coffee.order.order_test"
   ]
  },
  {
   "cell_type": "code",
   "execution_count": null,
   "id": "5e1b3c08-b39e-4377-bff1-d7c9ec12c627",
   "metadata": {},
   "outputs": [
    {
     "name": "stdout",
     "output_type": "stream",
     "text": [
      "티 한잔 시음해 보세요\n"
     ]
    }
   ],
   "source": [
    "# 모듈 불러와서 함수 사용하기1\n",
    "from cafe.non_coffee import tea\n",
    "\n",
    "tea.taste_test()"
   ]
  },
  {
   "cell_type": "code",
   "execution_count": null,
   "id": "cfc08cfe-dabd-4c88-b674-a800be393d50",
   "metadata": {},
   "outputs": [
    {
     "name": "stdout",
     "output_type": "stream",
     "text": [
      "티 한잔 시음해 보세요\n"
     ]
    }
   ],
   "source": [
    "# 모듈 불러와서 함수 사용하기2\n",
    "import cafe.non_coffee.tea as tea\n",
    "\n",
    "tea.taste_test()"
   ]
  },
  {
   "cell_type": "markdown",
   "id": "ed36c2b6-aa4d-4b3f-9a0d-18665c5b2d29",
   "metadata": {},
   "source": [
    "## \\_\\_init\\_\\_.py의 용도\n",
    "- 해당 디렉토리가 패키지의 일부임을 알려주는 역할을 함.\n",
    "- 패키지 안 디렉토리 안에 \\_\\_init\\_\\_.py가 없으면 패키지로 인식하지 않음. 사실, python 3.3버전 이후로는 자동으로 인식하지만, 명시적으로 작성해 주는 것이 좋음.\n",
    "- \\_\\_init\\_\\_.py 파일은 패키지와 관련된 설정이나 초기화 코드를 포함할 수 있음."
   ]
  },
  {
   "cell_type": "markdown",
   "id": "73b255f3-e2d9-45e3-b616-cb9de78f1b65",
   "metadata": {},
   "source": [
    "### 패키지 변수 및 함수 정의"
   ]
  },
  {
   "cell_type": "code",
   "execution_count": null,
   "id": "c26d6cb3-e862-4834-b4db-2ed1b8f138f8",
   "metadata": {},
   "outputs": [
    {
     "name": "stdout",
     "output_type": "stream",
     "text": [
      "Overwriting ./cafe/__init__.py\n"
     ]
    }
   ],
   "source": [
    "%%writefile ./cafe/__init__.py\n",
    "NAME = \"PYTHON\"\n",
    "\n",
    "def print_cafe_info():\n",
    "    print('안녕하세요 cafe python입니다')"
   ]
  },
  {
   "cell_type": "code",
   "execution_count": null,
   "id": "2a7330bb-a23c-44fb-9b8f-9f4a80766870",
   "metadata": {},
   "outputs": [
    {
     "name": "stdout",
     "output_type": "stream",
     "text": [
      "안녕하세요 cafe python입니다\n"
     ]
    }
   ],
   "source": [
    "import cafe\n",
    "\n",
    "cafe.NAME\n",
    "cafe.print_cafe_info()"
   ]
  },
  {
   "cell_type": "markdown",
   "id": "b75da749-b1d4-4cb3-b385-e90928275ef6",
   "metadata": {},
   "source": [
    "### 패키지 내 모듈을 미리 import\n",
    "- \\_\\_init\\_\\_.py가 속한 위치에서 불러들인 모듈의 함수 등을 사용할 수 있음.\n",
    "- 아래 예시는 cafe 폴더 안의 \\_\\_init\\_\\_.py에서 non_cofee 폴더의 tea 모듈을 불러 들인것이니, 그 안의 함수를 사용할 수 있는 것."
   ]
  },
  {
   "cell_type": "code",
   "execution_count": null,
   "id": "97362f11-d907-4878-9199-599b406d02ad",
   "metadata": {},
   "outputs": [
    {
     "name": "stdout",
     "output_type": "stream",
     "text": [
      "Overwriting ./cafe/__init__.py\n"
     ]
    }
   ],
   "source": [
    "%%writefile ./cafe/__init__.py\n",
    "from .non_coffee.tea import taste_test\n",
    "\n",
    "NAME = \"PYTHON\"\n",
    "\n",
    "def print_cafe_info():\n",
    "    print('안녕하세요 cafe python입니다')\n",
    "\n",
    "taste_test()"
   ]
  },
  {
   "cell_type": "code",
   "execution_count": null,
   "id": "20680e41-53ed-49ba-87a5-6d4c87edf627",
   "metadata": {},
   "outputs": [],
   "source": [
    "# 커널 재시작 코드"
   ]
  },
  {
   "cell_type": "code",
   "execution_count": null,
   "id": "7979b8fe-d7ee-4d11-bfb1-46aed400e122",
   "metadata": {},
   "outputs": [
    {
     "name": "stdout",
     "output_type": "stream",
     "text": [
      "티 한잔 시음해 보세요\n"
     ]
    }
   ],
   "source": [
    "# 원래 cafe에는 taste_test() 함수가 없지만, \n",
    "# __init__.py에서 미리 import를 시켰기 때문에 바로 사용 가능함.\n",
    "\n",
    "import cafe\n",
    "\n",
    "cafe.taste_test()"
   ]
  },
  {
   "cell_type": "markdown",
   "id": "0c00d7ce-1a4d-4e6a-8257-0948ce74b8f9",
   "metadata": {},
   "source": [
    "### 패키지 초기화\n",
    "- 패키지를 처음 불러올 때 실행되어야 하는 코드를 여기에 직접 작성\n",
    "- 신기하게도 패키지 하위 모듈을 임포트 할 때도, 최상위 \\_\\_init\\_\\_.py의 초기화 코드는 실행됨.(반드시 커널을 재시작한 후 하위 모듈을 임포트 해야 함.)\n",
    "- 그리고 한번 임포트가 되면 그 다음에 임포트를 해도 초기화코드는 실행되지 않음.\n",
    "- 그러나, import cafe를 하지 않는 이상 cafe에 대한 변수나 함수를 사용할 수는 없음.\n",
    "- (주의사항) kernel에 모듈을 불러와서 쓰고, 모듈을 수정했다면, 반드시 커널을 재시작하여 메모리에 올라온 모듈을 지우고 다시 실행해야 함. 아니면 꼬여서 수정된 모듈의 내용이 반영되지 않음."
   ]
  },
  {
   "cell_type": "code",
   "execution_count": null,
   "id": "31d2e6db-4c2b-4c42-bd45-13a24e7850dc",
   "metadata": {},
   "outputs": [
    {
     "name": "stdout",
     "output_type": "stream",
     "text": [
      "Overwriting ./cafe/__init__.py\n"
     ]
    }
   ],
   "source": [
    "%%writefile ./cafe/__init__.py\n",
    "\n",
    "from .non_coffee.tea import taste_test\n",
    "\n",
    "NAME = \"PYTHON\"\n",
    "\n",
    "def print_cafe_info():\n",
    "    print('안녕하세요 cafe python입니다')\n",
    "\n",
    "# 여기에 패키지 초기화 코드를 작성함.\n",
    "print('패키지를 불러옴으로서 초기화를 시작합니다 ... ')"
   ]
  },
  {
   "cell_type": "code",
   "execution_count": null,
   "id": "c165f8b8-aacc-4907-b772-7c68c367eef9",
   "metadata": {},
   "outputs": [],
   "source": [
    "# 커널 재시작"
   ]
  },
  {
   "cell_type": "code",
   "execution_count": null,
   "id": "d8d44c0d-e193-463d-8cda-ed94f36e6ca5",
   "metadata": {},
   "outputs": [],
   "source": [
    "# 패키지의 최상위 모듈 불러오기\n",
    "\n",
    "import cafe"
   ]
  },
  {
   "cell_type": "code",
   "execution_count": null,
   "id": "7e247741-843b-4a3d-ab0e-84d413272ef3",
   "metadata": {},
   "outputs": [],
   "source": [
    "# 커널 재시작 후 아래 코드 실행해야 함.\n",
    "# 메모리에 올라온 모듈을 지우고 다시 적용\n",
    "# import cafe는 날아감."
   ]
  },
  {
   "cell_type": "code",
   "execution_count": null,
   "id": "f7eda27e-d03b-4b82-a50b-787bb5710324",
   "metadata": {},
   "outputs": [],
   "source": [
    "# 하위 모듈을 실행해도 초기화코드는 실행됨.\n",
    "import cafe.coffee as coffee"
   ]
  },
  {
   "cell_type": "code",
   "execution_count": null,
   "id": "c1ccc964-d32d-46f0-9c61-c4035bf3c961",
   "metadata": {},
   "outputs": [
    {
     "ename": "NameError",
     "evalue": "name 'cafe' is not defined",
     "output_type": "error",
     "traceback": [
      "\u001b[0;31m---------------------------------------------------------------------------\u001b[0m",
      "\u001b[0;31mNameError\u001b[0m                                 Traceback (most recent call last)",
      "Cell \u001b[0;32mIn [2], line 4\u001b[0m\n\u001b[1;32m      1\u001b[0m \u001b[38;5;66;03m# 초기화코드는 실행되었지만, \u001b[39;00m\n\u001b[1;32m      2\u001b[0m \u001b[38;5;66;03m# import cafe를 하지 않았으므로, 다음의 코드는 실행되지 않음.\u001b[39;00m\n\u001b[0;32m----> 4\u001b[0m \u001b[43mcafe\u001b[49m\u001b[38;5;241m.\u001b[39mNAME\n",
      "\u001b[0;31mNameError\u001b[0m: name 'cafe' is not defined"
     ]
    }
   ],
   "source": [
    "# 초기화코드는 실행되었지만, \n",
    "# import cafe를 하지 않았으므로, 다음의 코드는 실행되지 않음.\n",
    "\n",
    "cafe.NAME"
   ]
  },
  {
   "cell_type": "markdown",
   "id": "80f7f56b-1ccf-43fc-8800-b6a357805ed8",
   "metadata": {},
   "source": [
    "## \\_\\_all\\_\\_\n",
    "- \\* 로 모듈을 임포트 시키는 경우에, 어떤 모듈을 불러올 것인지 설정하는 변수"
   ]
  },
  {
   "cell_type": "code",
   "execution_count": null,
   "id": "2b6ac22d-a292-4f85-9c75-80250b5f5da6",
   "metadata": {},
   "outputs": [
    {
     "name": "stderr",
     "output_type": "stream",
     "text": [
      "'cat'��(��) ���� �Ǵ� �ܺ� ����, ������ �� �ִ� ���α׷�, �Ǵ�\n",
      "��ġ ������ �ƴմϴ�.\n"
     ]
    }
   ],
   "source": [
    "# cafe.coffee 안의 모든 모듈 임포트 시키기\n",
    "# 현재 __init__.py에는 아무것도 없음.\n",
    "\n",
    "!cat ./cafe/coffee/__init__.py"
   ]
  },
  {
   "cell_type": "code",
   "execution_count": null,
   "id": "26584045-c047-46e3-82da-63a6150548e0",
   "metadata": {},
   "outputs": [
    {
     "ename": "NameError",
     "evalue": "name 'payment' is not defined",
     "output_type": "error",
     "traceback": [
      "\u001b[1;31m---------------------------------------------------------------------------\u001b[0m",
      "\u001b[1;31mNameError\u001b[0m                                 Traceback (most recent call last)",
      "Cell \u001b[1;32mIn[8], line 5\u001b[0m\n\u001b[0;32m      1\u001b[0m \u001b[38;5;66;03m# cafe.coffee 안의 모든 모듈 임포트를 시켜도 실행되지 않음.\u001b[39;00m\n\u001b[0;32m      3\u001b[0m \u001b[38;5;28;01mfrom\u001b[39;00m \u001b[38;5;21;01mcafe\u001b[39;00m\u001b[38;5;21;01m.\u001b[39;00m\u001b[38;5;21;01mcoffee\u001b[39;00m \u001b[38;5;28;01mimport\u001b[39;00m \u001b[38;5;241m*\u001b[39m\n\u001b[1;32m----> 5\u001b[0m \u001b[43mpayment\u001b[49m\u001b[38;5;241m.\u001b[39mpay_test()\n",
      "\u001b[1;31mNameError\u001b[0m: name 'payment' is not defined"
     ]
    }
   ],
   "source": [
    "# cafe.coffee 안의 모든 모듈 임포트를 시켜도 실행되지 않음.\n",
    "\n",
    "from cafe.coffee import *\n",
    "\n",
    "payment.pay_test()"
   ]
  },
  {
   "cell_type": "code",
   "execution_count": null,
   "id": "bcc5c811-c3c1-4300-97d9-41318221d035",
   "metadata": {},
   "outputs": [],
   "source": [
    "# ./cafe/coffee/__init__.py에 __all__ 변수 설정하기"
   ]
  },
  {
   "cell_type": "code",
   "execution_count": null,
   "id": "a0923f4f-d987-42a8-a54c-bbe3167c2771",
   "metadata": {},
   "outputs": [
    {
     "name": "stdout",
     "output_type": "stream",
     "text": [
      "Overwriting ./cafe/coffee/__init__.py\n"
     ]
    }
   ],
   "source": [
    "%%writefile ./cafe/coffee/__init__.py\n",
    "\n",
    "__all__ = ['payment', 'order']"
   ]
  },
  {
   "cell_type": "code",
   "execution_count": null,
   "id": "22ec6559-7c9f-40a4-961b-f35678226d93",
   "metadata": {},
   "outputs": [],
   "source": [
    "# 커널 재시작"
   ]
  },
  {
   "cell_type": "code",
   "execution_count": 13,
   "id": "6ca7ecf6-7430-45d1-a3f6-13615d5dac91",
   "metadata": {},
   "outputs": [
    {
     "ename": "NameError",
     "evalue": "name 'payment' is not defined",
     "output_type": "error",
     "traceback": [
      "\u001b[1;31m---------------------------------------------------------------------------\u001b[0m",
      "\u001b[1;31mNameError\u001b[0m                                 Traceback (most recent call last)",
      "Cell \u001b[1;32mIn[13], line 3\u001b[0m\n\u001b[0;32m      1\u001b[0m \u001b[38;5;28;01mfrom\u001b[39;00m \u001b[38;5;21;01mcafe\u001b[39;00m\u001b[38;5;21;01m.\u001b[39;00m\u001b[38;5;21;01mcoffee\u001b[39;00m \u001b[38;5;28;01mimport\u001b[39;00m \u001b[38;5;241m*\u001b[39m\n\u001b[1;32m----> 3\u001b[0m \u001b[43mpayment\u001b[49m\u001b[38;5;241m.\u001b[39mpay_test()\n",
      "\u001b[1;31mNameError\u001b[0m: name 'payment' is not defined"
     ]
    }
   ],
   "source": [
    "from cafe.coffee import *\n",
    "\n",
    "payment.pay_test()"
   ]
  },
  {
   "cell_type": "markdown",
   "id": "5b43ebce-ea73-40b4-9faf-a8c8abd05a31",
   "metadata": {},
   "source": [
    "## relative 패키지\n",
    "- cafe/coffee/order.py 모듈에서 cafe/non_coffee/tea.py 모듈을 사용하고 싶으면 어떻게 해야할까?\n",
    "- 보통 이런 경우는, 패키지를 설계하면서 나눠진 모듈 간에 필요한 기능을 가져와서 사용할 때 필요함.\n",
    "- 이럴 때, 상대 경로로 order.py 모듈에서 상대경로를 이용하여 tea.py 모듈을 불러와야 한다.\n",
    "- .은 현재 디렉토리, ..은 상위 디렉토리를 의미하며, /는 사용하지 않음."
   ]
  },
  {
   "cell_type": "code",
   "execution_count": 14,
   "id": "f8d4872c-e206-4b16-9fbc-22e279d22194",
   "metadata": {},
   "outputs": [
    {
     "name": "stderr",
     "output_type": "stream",
     "text": [
      "'cat'��(��) ���� �Ǵ� �ܺ� ����, ������ �� �ִ� ���α׷�, �Ǵ�\n",
      "��ġ ������ �ƴմϴ�.\n"
     ]
    }
   ],
   "source": [
    "!cat ./cafe/coffee/order.py"
   ]
  },
  {
   "cell_type": "code",
   "execution_count": 15,
   "id": "45b580d6-3860-41cd-b567-e07bc6d17f3a",
   "metadata": {},
   "outputs": [
    {
     "name": "stdout",
     "output_type": "stream",
     "text": [
      "Overwriting ./cafe/coffee/order.py\n"
     ]
    }
   ],
   "source": [
    "%%writefile ./cafe/coffee/order.py\n",
    "from cafe.non_coffee import tea\n",
    "\n",
    "def order_test():\n",
    "    print('아메리카노 한잔 주문요')\n",
    "    tea.taste_test()"
   ]
  },
  {
   "cell_type": "code",
   "execution_count": null,
   "id": "f95b713b-150f-4ae3-8b22-7c9e524a1968",
   "metadata": {},
   "outputs": [],
   "source": [
    "# 커널 재시작"
   ]
  },
  {
   "cell_type": "code",
   "execution_count": 1,
   "id": "0d651942-32c5-46a5-843f-17853373b815",
   "metadata": {},
   "outputs": [
    {
     "name": "stdout",
     "output_type": "stream",
     "text": [
      "패키지를 불러옴으로서 초기화를 시작합니다 ... \n",
      "아메리카노 한잔 주문요\n",
      "티 한잔 시음해 보세요\n"
     ]
    }
   ],
   "source": [
    "from cafe.coffee import order\n",
    "\n",
    "order.order_test()"
   ]
  },
  {
   "cell_type": "code",
   "execution_count": 2,
   "id": "d3dff371-97a7-400f-99c2-0cd3b6457dc5",
   "metadata": {},
   "outputs": [
    {
     "name": "stderr",
     "output_type": "stream",
     "text": [
      "'cat'��(��) ���� �Ǵ� �ܺ� ����, ������ �� �ִ� ���α׷�, �Ǵ�\n",
      "��ġ ������ �ƴմϴ�.\n"
     ]
    }
   ],
   "source": [
    "# tea.py 모듈에서 payment.py 함수 이용하기\n",
    "\n",
    "!cat ./cafe/non_coffee/tea.py"
   ]
  },
  {
   "cell_type": "code",
   "execution_count": 3,
   "id": "28029b92-5dc0-46db-b7a5-b6a72112c64a",
   "metadata": {},
   "outputs": [
    {
     "name": "stdout",
     "output_type": "stream",
     "text": [
      "Overwriting ./cafe/non_coffee/tea.py\n"
     ]
    }
   ],
   "source": [
    "%%writefile ./cafe/non_coffee/tea.py\n",
    "from ..coffee import payment\n",
    "\n",
    "def taste_test():\n",
    "    print('티 한잔 시음해 보세요')\n",
    "    payment.pay_test()"
   ]
  },
  {
   "cell_type": "code",
   "execution_count": null,
   "id": "fcf53b5a-999d-4987-af02-01b8cd764202",
   "metadata": {},
   "outputs": [],
   "source": [
    "# 커널 재시작"
   ]
  },
  {
   "cell_type": "code",
   "execution_count": null,
   "id": "cd9a7ae3-bc3f-4a6b-8893-1082a6a94806",
   "metadata": {},
   "outputs": [
    {
     "name": "stdout",
     "output_type": "stream",
     "text": [
      "패키지를 불러옴으로서 초기화를 시작합니다 ... \n",
      "티 한잔 시음해 보세요\n",
      "ApplePay로 지불할게요~\n"
     ]
    }
   ],
   "source": [
    "from cafe.non_coffee import tea\n",
    "\n",
    "tea.taste_test()"
   ]
  },
  {
   "cell_type": "code",
   "execution_count": null,
   "id": "a3b1f1e2-9d7a-4881-a0f0-42446cec17dc",
   "metadata": {},
   "outputs": [],
   "source": []
  }
 ],
 "metadata": {
  "kernelspec": {
   "display_name": "projectA",
   "language": "python",
   "name": "python3"
  },
  "language_info": {
   "codemirror_mode": {
    "name": "ipython",
    "version": 3
   },
   "file_extension": ".py",
   "mimetype": "text/x-python",
   "name": "python",
   "nbconvert_exporter": "python",
   "pygments_lexer": "ipython3",
   "version": "3.12.4"
  }
 },
 "nbformat": 4,
 "nbformat_minor": 5
}

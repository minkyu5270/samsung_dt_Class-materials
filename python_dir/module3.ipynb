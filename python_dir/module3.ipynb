
favorate_num = 27

def add(a, b):
    return a + b

def sub(a, b):
    return a - b

class Car:
    def __init__(self, name):
        self.name = name

    def print_name(self):
        print(self.name)
